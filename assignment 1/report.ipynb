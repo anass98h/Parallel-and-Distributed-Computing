{
 "cells": [
  {
   "cell_type": "markdown",
   "metadata": {},
   "source": [
    "**Matrix Multiplication Performance Improvement**  \n",
    "We changed from `std::vector<std::vector<int>>` to a single 1D array `std::vector<int>`, reducing execution time from 14055 ms to 6765 ms.  \n",
    "\n",
    "We improved the cashe hit rate by insuring that we prossess the matrix mutiblication by row insted of colom by using ikj order of lopps and got improvement up to Execution time: 5118 ms."
   ]
  }
 ],
 "metadata": {
  "language_info": {
   "name": "python"
  }
 },
 "nbformat": 4,
 "nbformat_minor": 2
}
